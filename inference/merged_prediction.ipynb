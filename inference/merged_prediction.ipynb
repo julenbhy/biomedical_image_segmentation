{
 "cells": [
  {
   "cell_type": "code",
   "execution_count": 1,
   "id": "bac4a5aa",
   "metadata": {},
   "outputs": [
    {
     "name": "stderr",
     "output_type": "stream",
     "text": [
      "2021-08-26 13:29:15.265453: I tensorflow/stream_executor/platform/default/dso_loader.cc:53] Successfully opened dynamic library libcudart.so.11.0\n"
     ]
    },
    {
     "name": "stdout",
     "output_type": "stream",
     "text": [
      "Segmentation Models: using `keras` framework.\n"
     ]
    }
   ],
   "source": [
    "import sys\n",
    "sys.path.append('./tools')\n",
    "sys.path.append('../tools')\n",
    "import os\n",
    "import cv2\n",
    "import numpy as np\n",
    "import matplotlib.pyplot as plt\n",
    "import segmentation_models as sm\n",
    "import tensorflow as tf\n",
    "from keras.models import load_model\n",
    "from sklearn.preprocessing import MinMaxScaler\n",
    "from smooth_tiled_predictions import predict_img_with_smooth_windowing\n",
    "from segmentation_utils import plot_prediction\n",
    "\n",
    "from segmentation_utils import plot_mask\n",
    "\n",
    "TILE_SIZE = 512\n",
    "DOWNSAMPLE = 10\n",
    "NUM_CLASSES=6\n",
    "BACKBONE = 'resnet34'\n",
    "\n",
    "CLASSES = {0 : 'background',\n",
    "           1 : 'Mucosa',\n",
    "           2 : 'Linfocitos',\n",
    "           3 : 'Submucosa',\n",
    "           4 : 'Muscular',\n",
    "           5 : 'Subserosa',\n",
    "          }"
   ]
  },
  {
   "cell_type": "code",
   "execution_count": 2,
   "id": "900be44e",
   "metadata": {},
   "outputs": [
    {
     "name": "stderr",
     "output_type": "stream",
     "text": [
      "2021-08-26 13:29:24.120204: I tensorflow/stream_executor/platform/default/dso_loader.cc:53] Successfully opened dynamic library libcuda.so.1\n",
      "2021-08-26 13:29:30.518015: I tensorflow/core/common_runtime/gpu/gpu_device.cc:1733] Found device 0 with properties: \n",
      "pciBusID: 0000:b1:00.0 name: Tesla V100S-PCIE-32GB computeCapability: 7.0\n",
      "coreClock: 1.597GHz coreCount: 80 deviceMemorySize: 31.75GiB deviceMemoryBandwidth: 1.03TiB/s\n",
      "2021-08-26 13:29:30.518116: I tensorflow/stream_executor/platform/default/dso_loader.cc:53] Successfully opened dynamic library libcudart.so.11.0\n",
      "2021-08-26 13:29:30.561657: I tensorflow/stream_executor/platform/default/dso_loader.cc:53] Successfully opened dynamic library libcublas.so.11\n",
      "2021-08-26 13:29:30.561761: I tensorflow/stream_executor/platform/default/dso_loader.cc:53] Successfully opened dynamic library libcublasLt.so.11\n",
      "2021-08-26 13:29:30.574010: I tensorflow/stream_executor/platform/default/dso_loader.cc:53] Successfully opened dynamic library libcufft.so.10\n",
      "2021-08-26 13:29:30.578773: I tensorflow/stream_executor/platform/default/dso_loader.cc:53] Successfully opened dynamic library libcurand.so.10\n",
      "2021-08-26 13:29:30.597530: I tensorflow/stream_executor/platform/default/dso_loader.cc:53] Successfully opened dynamic library libcusolver.so.11\n",
      "2021-08-26 13:29:30.603142: I tensorflow/stream_executor/platform/default/dso_loader.cc:53] Successfully opened dynamic library libcusparse.so.11\n",
      "2021-08-26 13:29:30.605367: I tensorflow/stream_executor/platform/default/dso_loader.cc:53] Successfully opened dynamic library libcudnn.so.8\n",
      "2021-08-26 13:29:30.610898: I tensorflow/core/common_runtime/gpu/gpu_device.cc:1871] Adding visible gpu devices: 0\n"
     ]
    }
   ],
   "source": [
    "os.environ[\"CUDA_DEVICE_ORDER\"]='PCI_BUS_ID'\n",
    "os.environ[\"CUDA_VISIBLE_DEVICES\"]='4' # Select the GPU 0\n",
    "\n",
    "gpus = tf.config.list_physical_devices('GPU') # Use only the required GPU memory \n",
    "if gpus:\n",
    "    for gpu in gpus:\n",
    "        tf.config.experimental.set_memory_growth(gpu,True)"
   ]
  },
  {
   "cell_type": "code",
   "execution_count": 3,
   "id": "4e10163f",
   "metadata": {},
   "outputs": [],
   "source": [
    "def plot_merged(image, tissue, tumor, num_classes=6, cmap='viridis', alpha=0.7):\n",
    "    # Place all pixel values for colour coherence\n",
    "    for j in range(num_classes):\n",
    "        tissue[0,j]=j\n",
    "        \n",
    "    f = plt.figure(figsize = (15, 15))\n",
    "    f.add_subplot(1,3,1)\n",
    "    plt.axis('off')\n",
    "    plt. title('Original image')\n",
    "    plt.imshow(image)\n",
    "    f.add_subplot(1,3,2)\n",
    "    plt.axis('off')\n",
    "    plt. title('Predicted tissues')\n",
    "    plt.imshow(tissue, cmap=cmap)\n",
    "    f.add_subplot(1,3,3)\n",
    "    plt.axis('off')\n",
    "    plt. title('Predicted tumor')\n",
    "    plt.imshow(tumor, cmap='jet')\n",
    "    \n",
    "    f = plt.figure(figsize = (15, 15))\n",
    "    f.add_subplot(1,1,1)\n",
    "    plt.axis('off')\n",
    "    plt. title('Tumor over Tissue')\n",
    "    plt.imshow(image)\n",
    "    no_background_tissue = np.ma.masked_where(tissue == 0, tissue) # remove background(0) from prediction\n",
    "    no_background_tissue[0,0] = 0\n",
    "    plt.imshow(no_background_tissue, cmap=cmap)\n",
    "    no_background_tumor = np.ma.masked_where(tumor == 0, tumor) # remove background(0) from prediction\n",
    "    no_background_tumor[0,0] = 0\n",
    "    plt.imshow(no_background_tumor, cmap='jet', alpha=0.5)\n",
    "    plt.show(block=True)\n",
    "    plt.show"
   ]
  },
  {
   "cell_type": "code",
   "execution_count": null,
   "id": "5ffe2af2",
   "metadata": {},
   "outputs": [
    {
     "name": "stderr",
     "output_type": "stream",
     "text": [
      "2021-08-26 13:29:30.785023: I tensorflow/core/platform/cpu_feature_guard.cc:142] This TensorFlow binary is optimized with oneAPI Deep Neural Network Library (oneDNN) to use the following CPU instructions in performance-critical operations:  AVX2 AVX512F FMA\n",
      "To enable them in other operations, rebuild TensorFlow with the appropriate compiler flags.\n",
      "2021-08-26 13:29:30.791277: I tensorflow/core/common_runtime/gpu/gpu_device.cc:1733] Found device 0 with properties: \n",
      "pciBusID: 0000:b1:00.0 name: Tesla V100S-PCIE-32GB computeCapability: 7.0\n",
      "coreClock: 1.597GHz coreCount: 80 deviceMemorySize: 31.75GiB deviceMemoryBandwidth: 1.03TiB/s\n",
      "2021-08-26 13:29:30.793385: I tensorflow/core/common_runtime/gpu/gpu_device.cc:1871] Adding visible gpu devices: 0\n",
      "2021-08-26 13:29:30.793791: I tensorflow/stream_executor/platform/default/dso_loader.cc:53] Successfully opened dynamic library libcudart.so.11.0\n",
      "2021-08-26 13:29:32.299689: I tensorflow/core/common_runtime/gpu/gpu_device.cc:1258] Device interconnect StreamExecutor with strength 1 edge matrix:\n",
      "2021-08-26 13:29:32.299750: I tensorflow/core/common_runtime/gpu/gpu_device.cc:1264]      0 \n",
      "2021-08-26 13:29:32.299771: I tensorflow/core/common_runtime/gpu/gpu_device.cc:1277] 0:   N \n",
      "2021-08-26 13:29:32.308228: I tensorflow/core/common_runtime/gpu/gpu_device.cc:1418] Created TensorFlow device (/job:localhost/replica:0/task:0/device:GPU:0 with 30993 MB memory) -> physical GPU (device: 0, name: Tesla V100S-PCIE-32GB, pci bus id: 0000:b1:00.0, compute capability: 7.0)\n",
      "  0%|                                                     | 0/8 [00:00<?, ?it/s]2021-08-26 13:29:41.937989: I tensorflow/compiler/mlir/mlir_graph_optimization_pass.cc:176] None of the MLIR Optimization Passes are enabled (registered 2)\n",
      "2021-08-26 13:29:41.938541: I tensorflow/core/platform/profile_utils/cpu_utils.cc:114] CPU Frequency: 2700000000 Hz\n",
      "2021-08-26 13:29:52.546289: I tensorflow/stream_executor/platform/default/dso_loader.cc:53] Successfully opened dynamic library libcudnn.so.8\n",
      "2021-08-26 13:29:53.716750: I tensorflow/stream_executor/cuda/cuda_dnn.cc:359] Loaded cuDNN version 8200\n",
      "2021-08-26 13:29:55.439979: I tensorflow/stream_executor/platform/default/dso_loader.cc:53] Successfully opened dynamic library libcublas.so.11\n",
      "2021-08-26 13:29:56.390619: I tensorflow/stream_executor/platform/default/dso_loader.cc:53] Successfully opened dynamic library libcublasLt.so.11\n",
      " 38%|████████████████▉                            | 3/8 [01:06<01:40, 20.14s/it]"
     ]
    }
   ],
   "source": [
    "############ LOAD MODELS ############\n",
    "tissue_model = load_model('../tissue_segmentation/trained_models/tiled_unet_d'+str(DOWNSAMPLE)+'_t'+str(TILE_SIZE)+'.hdf5', compile=False)\n",
    "       \n",
    "#tumor_model = load_model('tumor_segmentation/trained_models/'\\\n",
    "#                   'tiled_tumor_unet_d'+str(DOWNSAMPLE)+'_t'+str(TILE_SIZE)+'.hdf5', compile=False)\n",
    "    \n",
    "    \n",
    "############ LOAD IMAGE TO PREDICT ############\n",
    "img = cv2.imread('../tumor_segmentation/database/images/img/10-2266 HET.jpg')\n",
    "img = cv2.cvtColor(img, cv2.COLOR_BGR2RGB)    # cv2 reads as BGR so must transform to RGB\n",
    "\n",
    "def preprocess_data(img):\n",
    "    scaler = MinMaxScaler()\n",
    "    preprocess_input = sm.get_preprocessing(BACKBONE)\n",
    "    img = scaler.fit_transform(img.reshape(-1, img.shape[-1])).reshape(img.shape) # same as img = (img.astype('float32')) / 255.\n",
    "    img = preprocess_input(img)  #Preprocess based on the pretrained backbone...\n",
    "    return img\n",
    "img = preprocess_data(img)\n",
    "    \n",
    "############ MAKE TISSUE PREDICTION ############\n",
    "tissue_prediction = predict_img_with_smooth_windowing(\n",
    "    img,\n",
    "    window_size=TILE_SIZE,\n",
    "    subdivisions=2,  # Minimal amount of overlap for windowing. Must be an even number.\n",
    "    nb_classes=NUM_CLASSES,\n",
    "    pred_func=(\n",
    "        lambda img_batch_subdiv: tissue_model.predict((img_batch_subdiv))\n",
    "    )\n",
    ")\n",
    "tissue = np.argmax(tissue_prediction, axis=2)\n",
    "############ MAKE TUMOR PREDICTION ############\n",
    "\"\"\"\n",
    "tumor_prediction = predict_img_with_smooth_windowing(\n",
    "    img,\n",
    "    window_size=TILE_SIZE,\n",
    "    subdivisions=2,  # Minimal amount of overlap for windowing. Must be an even number.\n",
    "    nb_classes=NUM_CLASSES,\n",
    "    pred_func=(\n",
    "        lambda img_batch_subdiv: tumor_model.predict((img_batch_subdiv))\n",
    "    )\n",
    ")\n",
    "tumor = np.argmax(tumor_prediction, axis=2)\n",
    "\"\"\"\n",
    "    # Read mask instead of predict \n",
    "tumor = cv2.imread('../tumor_segmentation/database/masks/img/10-2266 HET.png', 0)\n",
    "tumor = np.where(tumor==59, 1, tumor) # Tumor=1 \n",
    "\n",
    "############ PLOT PREDICTION ############\n",
    "plot_merged(img, tissue, tumor)"
   ]
  },
  {
   "cell_type": "code",
   "execution_count": null,
   "id": "4603c213",
   "metadata": {},
   "outputs": [],
   "source": [
    "############ GET INVADED TISSUES ############\n",
    "size = tissue.shape\n",
    "tissues = set()\n",
    "for i in range(size[0]):\n",
    "    for j in range(size[1]):\n",
    "        if tumor[i,j] == 1: tissues.add(tissue[i,j])\n",
    "tissues.discard(0)   \n",
    "print('Tumor is invading tissues:')\n",
    "for tissue in tissues:\n",
    "    print('\\t',CLASSES.get(tissue,tissue))"
   ]
  },
  {
   "cell_type": "code",
   "execution_count": null,
   "id": "99b39901",
   "metadata": {},
   "outputs": [],
   "source": [
    "############ PLOT TISSUE CONFIDANCE AND ENTROPY ############\n",
    "f = plt.figure(figsize = (20, 20))\n",
    "\n",
    "shannon_entr = (-tissue_prediction*np.log2(tissue_prediction)).sum(axis=2)\n",
    "shannon_entr=np.where(shannon_entr==np.nan, 0, shannon_entr) #mucosa=1      #backgroud=0\n",
    "\n",
    "plt.suptitle('\\nTissue Prediction' \\\n",
    "             '\\nConfidence heatmaps: The more red, the higher confidence' \\\n",
    "             '\\nShannon\\'s Entropy: The more red, the higher entropy' \\\n",
    "             '\\nAverage entropy:'+str(round(np.average(shannon_entr),4))+ \\\n",
    "             '\\n', x=0, ha='left',fontsize=25)\n",
    "\n",
    "columns = 4\n",
    "rows = tissue_prediction.shape[2]/columns+1\n",
    "i = 1\n",
    "\n",
    "\n",
    "for channel in range(tissue_prediction.shape[2]):\n",
    "    f.add_subplot(rows, columns, i)\n",
    "    plt.title('Confidence heatmap of '+CLASSES[channel], fontsize=20)\n",
    "    plt.axis('off')\n",
    "    tissue_prediction[0,0,channel] = 0\n",
    "    tissue_prediction[0,1,channel] = 1\n",
    "    plt.imshow(tissue_prediction[:,:,channel], cmap='jet')\n",
    "    i+=1\n",
    "#https://stackoverflow.com/questions/33607071/fastest-way-to-compute-entropy-of-each-numpy-array-row\n",
    "f.add_subplot(rows, columns, i)\n",
    "plt.title('Shannon\\'s Entropy ', fontsize=20)\n",
    "plt.axis('off')\n",
    "plt.imshow(shannon_entr, cmap='jet')\n",
    "plt.tight_layout(w_pad=1, h_pad=1)"
   ]
  }
 ],
 "metadata": {
  "kernelspec": {
   "display_name": "Python 3",
   "language": "python",
   "name": "python3"
  },
  "language_info": {
   "codemirror_mode": {
    "name": "ipython",
    "version": 3
   },
   "file_extension": ".py",
   "mimetype": "text/x-python",
   "name": "python",
   "nbconvert_exporter": "python",
   "pygments_lexer": "ipython3",
   "version": "3.9.5"
  }
 },
 "nbformat": 4,
 "nbformat_minor": 5
}
